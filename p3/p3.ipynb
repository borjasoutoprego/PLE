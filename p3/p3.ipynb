{
 "cells": [
  {
   "cell_type": "code",
   "execution_count": 30,
   "metadata": {},
   "outputs": [],
   "source": [
    "from sklearn import preprocessing\n",
    "import numpy as np\n",
    "import tensorflow as tf\n",
    "from tensorflow.keras import Sequential\n",
    "from tensorflow.keras.layers import Input, Embedding, Flatten, Dense, LSTM\n",
    "from nervaluate import Evaluator\n",
    "from keras.utils import to_categorical"
   ]
  },
  {
   "cell_type": "code",
   "execution_count": 2,
   "metadata": {},
   "outputs": [],
   "source": [
    "class txtReader:\n",
    "    def __init__(self, filename):\n",
    "        self.filename = filename\n",
    "\n",
    "    def read_split(self):\n",
    "        with open(self.filename, 'r') as f:\n",
    "            file_read = f.read()\n",
    "        efg = []\n",
    "        lines = file_read.split('\\n')\n",
    "        efg.append(lines)\n",
    "        text = []\n",
    "        text_id = []\n",
    "        for i in lines:\n",
    "            if i != '':\n",
    "                word = i.split('\\t')\n",
    "                text.append(word[0])\n",
    "                text_id.append(word[1])\n",
    "\n",
    "        return text, text_id"
   ]
  },
  {
   "cell_type": "code",
   "execution_count": 207,
   "metadata": {},
   "outputs": [],
   "source": [
    "class alphabet:\n",
    "    def __init__(self, train_file, dev_file, test_file):\n",
    "        self.train_file = train_file\n",
    "        self.dev_file = dev_file\n",
    "        self.test_file = test_file\n",
    "        self.data = dict()\n",
    "        self.labels = dict()\n",
    "\n",
    "    def read_split(self):\n",
    "        text_files = []\n",
    "        for text_file in [self.train_file, self.dev_file, self.test_file]:\n",
    "            txt = txtReader(text_file)\n",
    "            text, text_id = txt.read_split()\n",
    "            text_files.append(text)\n",
    "            text_files.append(text_id)\n",
    "\n",
    "        return text_files[0], text_files[1], text_files[2], text_files[3], text_files[4], text_files[5]\n",
    "    \n",
    "    def _tagger(self, dataset, cnt, dictionary):\n",
    "        for i in dataset:\n",
    "            # obtener indice de i en dataset\n",
    "            pos = dataset.index(i)\n",
    "            if i not in dictionary:\n",
    "                dictionary[i] = cnt\n",
    "                dataset[pos] = cnt\n",
    "                cnt += 1\n",
    "            else:\n",
    "                dataset[pos] = dictionary[i]\n",
    "\n",
    "        return dataset, cnt, dictionary \n",
    "\n",
    "    def labelEncoder(self):\n",
    "        train, train_id, dev, dev_id, test, test_id = self.read_split()\n",
    "        cnt = 1\n",
    "        cnt_id = 0\n",
    "\n",
    "        train, cnt, self.data = self._tagger(train, cnt, self.data) \n",
    "        train_id, cnt_id, self.labels = self._tagger(train_id, cnt_id, self.labels)\n",
    "        dev, cnt, self.data = self._tagger(dev, cnt, self.data)\n",
    "        dev_id, cnt_id, self.labels = self._tagger(dev_id, cnt_id, self.labels)\n",
    "        \n",
    "        for te in test:\n",
    "            pos = test.index(te)\n",
    "            if te not in self.data:\n",
    "                self.data[te] = len(train) # indica que la palabra es desconocida\n",
    "                test[pos] = self.data[te]\n",
    "            else:\n",
    "                test[pos] = self.data[te]\n",
    "\n",
    "        for te_id in test_id:\n",
    "            pos_id = test_id.index(te_id)\n",
    "            if te_id not in self.labels:  \n",
    "                self.labels[te_id] = len(train_id) \n",
    "                test_id[pos_id] = self.labels[te_id]\n",
    "            else:\n",
    "                test_id[pos_id] = self.labels[te_id]  \n",
    "\n",
    "        return train, train_id, dev, dev_id, test, test_id, self.data, self.labels"
   ]
  },
  {
   "cell_type": "code",
   "execution_count": 168,
   "metadata": {},
   "outputs": [],
   "source": [
    "train_PartTUT, train_id_PartTUT, dev_PartTUT, dev_id_PartTUT, test_PartTUT, test_id_PartTUT, PartTUT_data, PartTUT_labels = alphabet('materiales_practica/datasets/PartTUT/train.txt', 'materiales_practica/datasets/PartTUT/dev.txt', 'materiales_practica/datasets/PartTUT/test.txt').labelEncoder()"
   ]
  },
  {
   "cell_type": "code",
   "execution_count": 172,
   "metadata": {},
   "outputs": [],
   "source": [
    "train_MITMovie, train_id_MITMovie, dev_MITMovie, dev_id_MITMovie, test_MITMovie, test_id_MITMovie, MITMovie_data, MITMovie_labels = alphabet('materiales_practica/datasets/MITMovie/train.txt', 'materiales_practica/datasets/MITMovie/dev.txt', 'materiales_practica/datasets/MITMovie/test.txt').labelEncoder()"
   ]
  },
  {
   "cell_type": "code",
   "execution_count": 208,
   "metadata": {},
   "outputs": [],
   "source": [
    "train_MITRestaurant, train_id_MITRestaurant, dev_MITRestaurant, dev_id_MITRestaurant, test_MITRestaurant, test_id_MITRestaurant, MITRestaurant_data, MITRestaurant_labels = alphabet('materiales_practica/datasets/MITRestaurant/train.txt', 'materiales_practica/datasets/MITRestaurant/dev.txt', 'materiales_practica/datasets/MITRestaurant/test.txt').labelEncoder()"
   ]
  },
  {
   "cell_type": "code",
   "execution_count": 209,
   "metadata": {},
   "outputs": [],
   "source": [
    "class FFTagger():\n",
    "    def __init__(self, train, train_id, dev, dev_id, test, test_id, labels_dict, n, loss, optimizer, metrics):\n",
    "        self.model = Sequential()\n",
    "        self.train = train\n",
    "        self.train_id = train_id\n",
    "        self.dev = dev\n",
    "        self.dev_id = dev_id\n",
    "        self.test = test\n",
    "        self.test_id = test_id\n",
    "        self.test_labels_dict = labels_dict\n",
    "        self.n = n\n",
    "        self.m = len(self.train) + 1 # vocab_size --> +1 por valores desconocidos en test\n",
    "        self.num_classes = 0\n",
    "        self.loss=loss\n",
    "        self.optimizer=optimizer\n",
    "        self.metrics=metrics\n",
    "        # self.weighted_metrics=weighted_metrics\n",
    "        self.train_windows = []\n",
    "        self.dev_windows = []\n",
    "        self.test_windows = []\n",
    "\n",
    "    def build_model(self): \n",
    "        padding = []\n",
    "        for i in range(self.n):\n",
    "            padding.append(0)\n",
    "        self.train = padding + self.train + padding\n",
    "        self.dev = padding + self.dev + padding\n",
    "\n",
    "        # almacenar ventanas de tamaño n*2+1 en una lista de listas para cada conjunto\n",
    "\n",
    "        for i in range(self.n, len(self.train) - self.n):\n",
    "            data = self.train[i-self.n:i+self.n+1]\n",
    "            self.train_windows.append(data)\n",
    "        \n",
    "        for i in range(self.n, len(self.dev) - self.n):\n",
    "            data = self.dev[i-self.n:i+self.n+1]\n",
    "            self.dev_windows.append(data) \n",
    "\n",
    "        classes = set(set(self.train_id) | set(self.dev_id))\n",
    "        self.num_classes = len(classes)\n",
    "\n",
    "        one_hot_train_id = to_categorical(self.train_id, num_classes=self.num_classes)\n",
    "        one_hot_dev_id = to_categorical(self.dev_id, num_classes=self.num_classes)\n",
    "        \n",
    "        batch_size = 10\n",
    "        train_tensor = tf.data.Dataset.from_tensor_slices((self.train_windows, one_hot_train_id))\n",
    "        train_tensor = train_tensor.batch(batch_size)\n",
    "        dev_tensor = tf.data.Dataset.from_tensor_slices((self.dev_windows, one_hot_dev_id))\n",
    "        dev_tensor = dev_tensor.batch(batch_size)\n",
    "\n",
    "        self.model.add(Input(shape=(self.n*2+1,), dtype=tf.int32))\n",
    "        self.model.add(Embedding(input_dim = self.m, output_dim=20, mask_zero=True, input_length=self.n*2+1))\n",
    "        self.model.add(Flatten())\n",
    "        self.model.add(Dense(64, activation='relu'))\n",
    "        self.model.add(Dense(self.num_classes, activation='softmax'))\n",
    "\n",
    "        self.model.compile(loss=self.loss, optimizer=self.optimizer, metrics=self.metrics)\n",
    "        self.model.fit(train_tensor, epochs=1, validation_data=dev_tensor, verbose=1)\n",
    "\n",
    "    # def train_model(self):\n",
    "\n",
    "    #     self.model.compile(loss=self.loss, optimizer=self.optimizer, metrics=self.metrics, weighted_metrics=self.weighted_metrics)\n",
    "    #     self.model.fit(self.train_windows, self.train_id, epochs=10, validation_data=(self.dev_windows, self.dev_id), verbose=0)\n",
    "\n",
    "    def evaluate(self, task):\n",
    "        padding = []\n",
    "        for i in range(self.n):\n",
    "            padding.append(0)\n",
    "        self.test = padding + self.test + padding\n",
    "\n",
    "        self.test_windows = []\n",
    "        for i in range(self.n, len(self.test) - self.n):\n",
    "            data = self.test[i-self.n:i+self.n+1]\n",
    "            self.test_windows.append(data)\n",
    "\n",
    "        test_labels = []\n",
    "        \n",
    "        for i in self.test_id:\n",
    "            for k, v in self.test_labels_dict.items():\n",
    "                if i == v:\n",
    "                    test_labels.append(k)\n",
    "\n",
    "        one_hot_dict = dict()\n",
    "        batch_size = 10\n",
    "        one_hot_test_id = to_categorical(self.test_id, num_classes=self.num_classes)\n",
    "        for i in range(len(one_hot_test_id)):\n",
    "            if one_hot_test_id[i] not in one_hot_dict:\n",
    "                one_hot_dict[one_hot_test_id[i]] = self.test_id[i]\n",
    "        test_tensor = tf.data.Dataset.from_tensor_slices((self.test_windows, one_hot_test_id))\n",
    "        test_tensor = test_tensor.batch(batch_size)\n",
    "        \n",
    "        if task == \"PoS\":\n",
    "            loss, accuracy = self.model.evaluate(test_tensor, verbose=1)\n",
    "            return loss, accuracy\n",
    "        elif task == \"NER\":\n",
    "            self.model.evaluate(test_tensor, verbose=1)\n",
    "            pred = np.argmax(self.model.predict(test_tensor), axis=-1)\n",
    "            predictions = []\n",
    "            for p in pred:\n",
    "                predictions.append(one_hot_dict[p])\n",
    "\n",
    "            tags = list(set(set(self.train_id) | set(self.dev_id)))\n",
    "\n",
    "            pred_labels = []\n",
    "            for l in predictions:\n",
    "                for k, v in self.test_labels_dict.items():\n",
    "                    if l == v:\n",
    "                        pred_labels.append(k)\n",
    "\n",
    "            evaluator = Evaluator(test_labels, pred=pred_labels, tags=tags, loader=\"list\")\n",
    "            results, results_by_tag = evaluator.evaluate()\n",
    "\n",
    "            for tag, metrics in results_by_tag.items():\n",
    "                print(f'Metrics for \"{tag}\" entities:', metrics)\n",
    "            \n",
    "            return loss, accuracy, results, results_by_tag\n",
    "        else:\n",
    "            return \"Task not found\""
   ]
  },
  {
   "cell_type": "code",
   "execution_count": 170,
   "metadata": {},
   "outputs": [
    {
     "name": "stdout",
     "output_type": "stream",
     "text": [
      "4351/4351 [==============================] - 56s 13ms/step - loss: 0.6426 - accuracy: 0.8120 - val_loss: 0.4038 - val_accuracy: 0.8718\n"
     ]
    }
   ],
   "source": [
    "modelPartTUT = FFTagger(train_PartTUT, train_id_PartTUT, dev_PartTUT, dev_id_PartTUT, test_PartTUT, test_id_PartTUT, 2, 'categorical_crossentropy', 'adam', ['accuracy'])\n",
    "modelPartTUT.build_model()"
   ]
  },
  {
   "cell_type": "code",
   "execution_count": 171,
   "metadata": {},
   "outputs": [
    {
     "name": "stdout",
     "output_type": "stream",
     "text": [
      "341/341 [==============================] - 1s 2ms/step - loss: 0.3483 - accuracy: 0.8985\n"
     ]
    },
    {
     "data": {
      "text/plain": [
       "(0.34831702709198, 0.8984741568565369)"
      ]
     },
     "execution_count": 171,
     "metadata": {},
     "output_type": "execute_result"
    }
   ],
   "source": [
    "modelPartTUT.evaluate(\"PoS\")"
   ]
  },
  {
   "cell_type": "code",
   "execution_count": 174,
   "metadata": {},
   "outputs": [
    {
     "name": "stdout",
     "output_type": "stream",
     "text": [
      "14283/14283 [==============================] - 914s 64ms/step - loss: 0.7141 - accuracy: 0.7890 - val_loss: 0.5518 - val_accuracy: 0.8295\n"
     ]
    }
   ],
   "source": [
    "modelMITMovie = FFTagger(train_MITMovie, train_id_MITMovie, dev_MITMovie, dev_id_MITMovie, test_MITMovie, test_id_MITMovie, 2, 'categorical_crossentropy', 'adam', ['accuracy'])\n",
    "modelMITMovie.build_model()"
   ]
  },
  {
   "cell_type": "code",
   "execution_count": 183,
   "metadata": {},
   "outputs": [],
   "source": [
    "# modelMITMovie.evaluate(\"NER\")"
   ]
  },
  {
   "cell_type": "code",
   "execution_count": 212,
   "metadata": {},
   "outputs": [
    {
     "name": "stdout",
     "output_type": "stream",
     "text": [
      "6355/6355 [==============================] - 142s 22ms/step - loss: 0.6476 - accuracy: 0.8197 - val_loss: 0.4533 - val_accuracy: 0.8663\n"
     ]
    }
   ],
   "source": [
    "modelMITRestaurant = FFTagger(train_MITRestaurant, train_id_MITRestaurant, dev_MITRestaurant, dev_id_MITRestaurant, test_MITRestaurant, test_id_MITRestaurant, MITRestaurant_labels, 2, 'categorical_crossentropy', 'adam', ['accuracy'])\n",
    "modelMITRestaurant.build_model()"
   ]
  },
  {
   "cell_type": "code",
   "execution_count": 213,
   "metadata": {},
   "outputs": [
    {
     "ename": "TypeError",
     "evalue": "unhashable type: 'numpy.ndarray'",
     "output_type": "error",
     "traceback": [
      "\u001b[1;31m---------------------------------------------------------------------------\u001b[0m",
      "\u001b[1;31mTypeError\u001b[0m                                 Traceback (most recent call last)",
      "\u001b[1;32mc:\\Users\\Administrador\\Desktop\\Q6\\PLE\\PLE\\p3\\p3.ipynb Celda 13\u001b[0m in \u001b[0;36m<cell line: 1>\u001b[1;34m()\u001b[0m\n\u001b[1;32m----> <a href='vscode-notebook-cell:/c%3A/Users/Administrador/Desktop/Q6/PLE/PLE/p3/p3.ipynb#X20sZmlsZQ%3D%3D?line=0'>1</a>\u001b[0m modelMITRestaurant\u001b[39m.\u001b[39;49mevaluate(\u001b[39m\"\u001b[39;49m\u001b[39mNER\u001b[39;49m\u001b[39m\"\u001b[39;49m)\n",
      "\u001b[1;32mc:\\Users\\Administrador\\Desktop\\Q6\\PLE\\PLE\\p3\\p3.ipynb Celda 13\u001b[0m in \u001b[0;36mFFTagger.evaluate\u001b[1;34m(self, task)\u001b[0m\n\u001b[0;32m     <a href='vscode-notebook-cell:/c%3A/Users/Administrador/Desktop/Q6/PLE/PLE/p3/p3.ipynb#X20sZmlsZQ%3D%3D?line=84'>85</a>\u001b[0m one_hot_test_id \u001b[39m=\u001b[39m to_categorical(\u001b[39mself\u001b[39m\u001b[39m.\u001b[39mtest_id, num_classes\u001b[39m=\u001b[39m\u001b[39mself\u001b[39m\u001b[39m.\u001b[39mnum_classes)\n\u001b[0;32m     <a href='vscode-notebook-cell:/c%3A/Users/Administrador/Desktop/Q6/PLE/PLE/p3/p3.ipynb#X20sZmlsZQ%3D%3D?line=85'>86</a>\u001b[0m \u001b[39mfor\u001b[39;00m i \u001b[39min\u001b[39;00m \u001b[39mrange\u001b[39m(\u001b[39mlen\u001b[39m(one_hot_test_id)):\n\u001b[1;32m---> <a href='vscode-notebook-cell:/c%3A/Users/Administrador/Desktop/Q6/PLE/PLE/p3/p3.ipynb#X20sZmlsZQ%3D%3D?line=86'>87</a>\u001b[0m     \u001b[39mif\u001b[39;00m one_hot_test_id[i] \u001b[39mnot\u001b[39;49;00m \u001b[39min\u001b[39;49;00m one_hot_dict:\n\u001b[0;32m     <a href='vscode-notebook-cell:/c%3A/Users/Administrador/Desktop/Q6/PLE/PLE/p3/p3.ipynb#X20sZmlsZQ%3D%3D?line=87'>88</a>\u001b[0m         one_hot_dict[one_hot_test_id[i]] \u001b[39m=\u001b[39m \u001b[39mself\u001b[39m\u001b[39m.\u001b[39mtest_id[i]\n\u001b[0;32m     <a href='vscode-notebook-cell:/c%3A/Users/Administrador/Desktop/Q6/PLE/PLE/p3/p3.ipynb#X20sZmlsZQ%3D%3D?line=88'>89</a>\u001b[0m test_tensor \u001b[39m=\u001b[39m tf\u001b[39m.\u001b[39mdata\u001b[39m.\u001b[39mDataset\u001b[39m.\u001b[39mfrom_tensor_slices((\u001b[39mself\u001b[39m\u001b[39m.\u001b[39mtest_windows, one_hot_test_id))\n",
      "\u001b[1;31mTypeError\u001b[0m: unhashable type: 'numpy.ndarray'"
     ]
    }
   ],
   "source": [
    "modelMITRestaurant.evaluate(\"NER\")"
   ]
  }
 ],
 "metadata": {
  "kernelspec": {
   "display_name": "Python 3.10.10 64-bit (microsoft store)",
   "language": "python",
   "name": "python3"
  },
  "language_info": {
   "codemirror_mode": {
    "name": "ipython",
    "version": 3
   },
   "file_extension": ".py",
   "mimetype": "text/x-python",
   "name": "python",
   "nbconvert_exporter": "python",
   "pygments_lexer": "ipython3",
   "version": "3.10.11"
  },
  "orig_nbformat": 4,
  "vscode": {
   "interpreter": {
    "hash": "f5f83275ee69d87b8221315355688642ba9d798c52e57f09be426c31a39c1344"
   }
  }
 },
 "nbformat": 4,
 "nbformat_minor": 2
}
